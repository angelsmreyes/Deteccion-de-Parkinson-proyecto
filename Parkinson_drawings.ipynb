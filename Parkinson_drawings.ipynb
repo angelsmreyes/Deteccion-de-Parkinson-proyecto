{
  "nbformat": 4,
  "nbformat_minor": 0,
  "metadata": {
    "colab": {
      "name": "Parkinson_drawings.ipynb",
      "provenance": [],
      "collapsed_sections": [],
      "mount_file_id": "1LPdtePMsgwCOfq4kXuFrbiBurah6lq47",
      "authorship_tag": "ABX9TyO2cI8Ws+wqh1JcI5vl0k4v",
      "include_colab_link": true
    },
    "kernelspec": {
      "name": "python3",
      "display_name": "Python 3"
    },
    "language_info": {
      "name": "python"
    }
  },
  "cells": [
    {
      "cell_type": "markdown",
      "metadata": {
        "id": "view-in-github",
        "colab_type": "text"
      },
      "source": [
        "<a href=\"https://colab.research.google.com/github/angelsmreyes/parkinson/blob/main/Parkinson_drawings.ipynb\" target=\"_parent\"><img src=\"https://colab.research.google.com/assets/colab-badge.svg\" alt=\"Open In Colab\"/></a>"
      ]
    },
    {
      "cell_type": "code",
      "metadata": {
        "id": "2ZzEIVJMHq39"
      },
      "source": [
        "import pandas as pd\n",
        "import numpy as np\n",
        "import matplotlib.pyplot as plt\n",
        "import os\n",
        "\n",
        "from skimage.transform import resize\n",
        "from skimage.io import imread\n",
        "\n",
        "plt.style.use('fivethirtyeight')\n",
        "\n",
        "plt.rcParams['axes.labelsize'] = 14\n",
        "plt.rcParams['xtick.labelsize'] = 12\n",
        "plt.rcParams['ytick.labelsize'] = 12\n",
        "plt.rcParams['text.color'] = 'k'"
      ],
      "execution_count": 66,
      "outputs": []
    },
    {
      "cell_type": "code",
      "metadata": {
        "id": "XkIu840QTKTS"
      },
      "source": [
        "dir = '/content/drive/MyDrive/drawings/spiral/training'"
      ],
      "execution_count": 2,
      "outputs": []
    },
    {
      "cell_type": "code",
      "metadata": {
        "id": "lqUeuTd3LXQW"
      },
      "source": [
        "categories = ['healthy', 'parkinson']\n",
        "label = []\n",
        "predictors = []"
      ],
      "execution_count": 3,
      "outputs": []
    },
    {
      "cell_type": "markdown",
      "metadata": {
        "id": "tb8r_IiDWcsS"
      },
      "source": [
        "path = os.path.join(dir, i) se le agrega a dir el nombre de la carpeta a usar dentro de la lista categories\n",
        "\n",
        "img in os.listdir(path) se listan todos los archivos dentro del directrio"
      ]
    },
    {
      "cell_type": "code",
      "metadata": {
        "colab": {
          "base_uri": "https://localhost:8080/"
        },
        "id": "khnbpmP6TOZZ",
        "outputId": "b6149024-47b8-4d48-bcac-8f64546cd8ad"
      },
      "source": [
        "for i in categories:\n",
        "  path = os.path.join(dir, i)\n",
        "  print(path)\n",
        "  for img in os.listdir(path):\n",
        "    image = imread(os.path.join(path, img)) # la imagen es un arreglo\n",
        "    image_resize = resize(image, (256, 256, 3)) # \n",
        "    predictors.append(image_resize.flatten())\n",
        "    label.append(categories.index(i)) "
      ],
      "execution_count": 4,
      "outputs": [
        {
          "output_type": "stream",
          "name": "stdout",
          "text": [
            "/content/drive/MyDrive/drawings/spiral/training/healthy\n",
            "/content/drive/MyDrive/drawings/spiral/training/parkinson\n"
          ]
        }
      ]
    },
    {
      "cell_type": "code",
      "metadata": {
        "id": "Msw6vLhEdGHE"
      },
      "source": [
        "pred = np.array(predictors)"
      ],
      "execution_count": 5,
      "outputs": []
    },
    {
      "cell_type": "code",
      "metadata": {
        "id": "cIlsAq5BdTU0"
      },
      "source": [
        "spiral_pd = pd.DataFrame(pred)"
      ],
      "execution_count": 6,
      "outputs": []
    },
    {
      "cell_type": "code",
      "metadata": {
        "colab": {
          "base_uri": "https://localhost:8080/",
          "height": 191
        },
        "id": "yOSsguX8d2aO",
        "outputId": "ad7b6541-7c93-4d47-aa6a-9de9c2a59f8e"
      },
      "source": [
        "spiral_pd.head(3)"
      ],
      "execution_count": 7,
      "outputs": [
        {
          "output_type": "execute_result",
          "data": {
            "text/html": [
              "<div>\n",
              "<style scoped>\n",
              "    .dataframe tbody tr th:only-of-type {\n",
              "        vertical-align: middle;\n",
              "    }\n",
              "\n",
              "    .dataframe tbody tr th {\n",
              "        vertical-align: top;\n",
              "    }\n",
              "\n",
              "    .dataframe thead th {\n",
              "        text-align: right;\n",
              "    }\n",
              "</style>\n",
              "<table border=\"1\" class=\"dataframe\">\n",
              "  <thead>\n",
              "    <tr style=\"text-align: right;\">\n",
              "      <th></th>\n",
              "      <th>0</th>\n",
              "      <th>1</th>\n",
              "      <th>2</th>\n",
              "      <th>3</th>\n",
              "      <th>4</th>\n",
              "      <th>5</th>\n",
              "      <th>6</th>\n",
              "      <th>7</th>\n",
              "      <th>8</th>\n",
              "      <th>9</th>\n",
              "      <th>10</th>\n",
              "      <th>11</th>\n",
              "      <th>12</th>\n",
              "      <th>13</th>\n",
              "      <th>14</th>\n",
              "      <th>15</th>\n",
              "      <th>16</th>\n",
              "      <th>17</th>\n",
              "      <th>18</th>\n",
              "      <th>19</th>\n",
              "      <th>20</th>\n",
              "      <th>21</th>\n",
              "      <th>22</th>\n",
              "      <th>23</th>\n",
              "      <th>24</th>\n",
              "      <th>25</th>\n",
              "      <th>26</th>\n",
              "      <th>27</th>\n",
              "      <th>28</th>\n",
              "      <th>29</th>\n",
              "      <th>30</th>\n",
              "      <th>31</th>\n",
              "      <th>32</th>\n",
              "      <th>33</th>\n",
              "      <th>34</th>\n",
              "      <th>35</th>\n",
              "      <th>36</th>\n",
              "      <th>37</th>\n",
              "      <th>38</th>\n",
              "      <th>39</th>\n",
              "      <th>...</th>\n",
              "      <th>196568</th>\n",
              "      <th>196569</th>\n",
              "      <th>196570</th>\n",
              "      <th>196571</th>\n",
              "      <th>196572</th>\n",
              "      <th>196573</th>\n",
              "      <th>196574</th>\n",
              "      <th>196575</th>\n",
              "      <th>196576</th>\n",
              "      <th>196577</th>\n",
              "      <th>196578</th>\n",
              "      <th>196579</th>\n",
              "      <th>196580</th>\n",
              "      <th>196581</th>\n",
              "      <th>196582</th>\n",
              "      <th>196583</th>\n",
              "      <th>196584</th>\n",
              "      <th>196585</th>\n",
              "      <th>196586</th>\n",
              "      <th>196587</th>\n",
              "      <th>196588</th>\n",
              "      <th>196589</th>\n",
              "      <th>196590</th>\n",
              "      <th>196591</th>\n",
              "      <th>196592</th>\n",
              "      <th>196593</th>\n",
              "      <th>196594</th>\n",
              "      <th>196595</th>\n",
              "      <th>196596</th>\n",
              "      <th>196597</th>\n",
              "      <th>196598</th>\n",
              "      <th>196599</th>\n",
              "      <th>196600</th>\n",
              "      <th>196601</th>\n",
              "      <th>196602</th>\n",
              "      <th>196603</th>\n",
              "      <th>196604</th>\n",
              "      <th>196605</th>\n",
              "      <th>196606</th>\n",
              "      <th>196607</th>\n",
              "    </tr>\n",
              "  </thead>\n",
              "  <tbody>\n",
              "    <tr>\n",
              "      <th>0</th>\n",
              "      <td>0.929412</td>\n",
              "      <td>0.927451</td>\n",
              "      <td>0.902614</td>\n",
              "      <td>0.925490</td>\n",
              "      <td>0.925490</td>\n",
              "      <td>0.984314</td>\n",
              "      <td>0.929412</td>\n",
              "      <td>0.929412</td>\n",
              "      <td>0.942484</td>\n",
              "      <td>0.917647</td>\n",
              "      <td>0.917647</td>\n",
              "      <td>0.940523</td>\n",
              "      <td>0.933333</td>\n",
              "      <td>0.933333</td>\n",
              "      <td>0.943137</td>\n",
              "      <td>0.937255</td>\n",
              "      <td>0.937255</td>\n",
              "      <td>0.943791</td>\n",
              "      <td>0.925490</td>\n",
              "      <td>0.925490</td>\n",
              "      <td>0.941830</td>\n",
              "      <td>0.945098</td>\n",
              "      <td>0.945098</td>\n",
              "      <td>0.945098</td>\n",
              "      <td>0.937255</td>\n",
              "      <td>0.937255</td>\n",
              "      <td>0.943791</td>\n",
              "      <td>0.905882</td>\n",
              "      <td>0.905882</td>\n",
              "      <td>0.938562</td>\n",
              "      <td>0.945098</td>\n",
              "      <td>0.945098</td>\n",
              "      <td>0.945098</td>\n",
              "      <td>0.941176</td>\n",
              "      <td>0.941176</td>\n",
              "      <td>0.944444</td>\n",
              "      <td>0.909804</td>\n",
              "      <td>0.909804</td>\n",
              "      <td>0.939216</td>\n",
              "      <td>0.921569</td>\n",
              "      <td>...</td>\n",
              "      <td>0.953595</td>\n",
              "      <td>0.913725</td>\n",
              "      <td>0.913725</td>\n",
              "      <td>0.956209</td>\n",
              "      <td>0.901961</td>\n",
              "      <td>0.901961</td>\n",
              "      <td>0.954248</td>\n",
              "      <td>0.894118</td>\n",
              "      <td>0.894118</td>\n",
              "      <td>0.952941</td>\n",
              "      <td>0.917647</td>\n",
              "      <td>0.917647</td>\n",
              "      <td>0.956863</td>\n",
              "      <td>0.905882</td>\n",
              "      <td>0.905882</td>\n",
              "      <td>0.954902</td>\n",
              "      <td>0.870588</td>\n",
              "      <td>0.870588</td>\n",
              "      <td>0.949020</td>\n",
              "      <td>0.913725</td>\n",
              "      <td>0.913725</td>\n",
              "      <td>0.956209</td>\n",
              "      <td>0.909804</td>\n",
              "      <td>0.909804</td>\n",
              "      <td>0.955556</td>\n",
              "      <td>0.909804</td>\n",
              "      <td>0.909804</td>\n",
              "      <td>0.955556</td>\n",
              "      <td>0.929412</td>\n",
              "      <td>0.929412</td>\n",
              "      <td>0.958824</td>\n",
              "      <td>0.886275</td>\n",
              "      <td>0.886275</td>\n",
              "      <td>0.951634</td>\n",
              "      <td>0.874510</td>\n",
              "      <td>0.874510</td>\n",
              "      <td>0.975817</td>\n",
              "      <td>0.913725</td>\n",
              "      <td>0.913725</td>\n",
              "      <td>0.913725</td>\n",
              "    </tr>\n",
              "    <tr>\n",
              "      <th>1</th>\n",
              "      <td>0.949020</td>\n",
              "      <td>0.949020</td>\n",
              "      <td>0.949020</td>\n",
              "      <td>0.941176</td>\n",
              "      <td>0.941176</td>\n",
              "      <td>0.941176</td>\n",
              "      <td>0.937255</td>\n",
              "      <td>0.937255</td>\n",
              "      <td>0.937255</td>\n",
              "      <td>0.941176</td>\n",
              "      <td>0.941176</td>\n",
              "      <td>0.941176</td>\n",
              "      <td>0.937255</td>\n",
              "      <td>0.937255</td>\n",
              "      <td>0.937255</td>\n",
              "      <td>0.937255</td>\n",
              "      <td>0.937255</td>\n",
              "      <td>0.937255</td>\n",
              "      <td>0.949020</td>\n",
              "      <td>0.949020</td>\n",
              "      <td>0.949020</td>\n",
              "      <td>0.952941</td>\n",
              "      <td>0.952941</td>\n",
              "      <td>0.952941</td>\n",
              "      <td>0.952941</td>\n",
              "      <td>0.952941</td>\n",
              "      <td>0.952941</td>\n",
              "      <td>0.921569</td>\n",
              "      <td>0.921569</td>\n",
              "      <td>0.921569</td>\n",
              "      <td>0.913725</td>\n",
              "      <td>0.913725</td>\n",
              "      <td>0.913725</td>\n",
              "      <td>0.909804</td>\n",
              "      <td>0.909804</td>\n",
              "      <td>0.909804</td>\n",
              "      <td>0.921569</td>\n",
              "      <td>0.921569</td>\n",
              "      <td>0.921569</td>\n",
              "      <td>0.945098</td>\n",
              "      <td>...</td>\n",
              "      <td>0.925490</td>\n",
              "      <td>0.941176</td>\n",
              "      <td>0.941176</td>\n",
              "      <td>0.941176</td>\n",
              "      <td>0.949020</td>\n",
              "      <td>0.949020</td>\n",
              "      <td>0.949020</td>\n",
              "      <td>0.941176</td>\n",
              "      <td>0.941176</td>\n",
              "      <td>0.941176</td>\n",
              "      <td>0.937255</td>\n",
              "      <td>0.937255</td>\n",
              "      <td>0.937255</td>\n",
              "      <td>0.945098</td>\n",
              "      <td>0.945098</td>\n",
              "      <td>0.945098</td>\n",
              "      <td>0.917647</td>\n",
              "      <td>0.917647</td>\n",
              "      <td>0.917647</td>\n",
              "      <td>0.933333</td>\n",
              "      <td>0.933333</td>\n",
              "      <td>0.933333</td>\n",
              "      <td>0.952941</td>\n",
              "      <td>0.952941</td>\n",
              "      <td>0.952941</td>\n",
              "      <td>0.937255</td>\n",
              "      <td>0.937255</td>\n",
              "      <td>0.937255</td>\n",
              "      <td>0.949020</td>\n",
              "      <td>0.949020</td>\n",
              "      <td>0.949020</td>\n",
              "      <td>0.929412</td>\n",
              "      <td>0.929412</td>\n",
              "      <td>0.929412</td>\n",
              "      <td>0.913725</td>\n",
              "      <td>0.913725</td>\n",
              "      <td>0.913725</td>\n",
              "      <td>0.949020</td>\n",
              "      <td>0.949020</td>\n",
              "      <td>0.949020</td>\n",
              "    </tr>\n",
              "    <tr>\n",
              "      <th>2</th>\n",
              "      <td>0.941176</td>\n",
              "      <td>0.941176</td>\n",
              "      <td>0.941176</td>\n",
              "      <td>0.937255</td>\n",
              "      <td>0.937255</td>\n",
              "      <td>0.937255</td>\n",
              "      <td>0.945098</td>\n",
              "      <td>0.945098</td>\n",
              "      <td>0.945098</td>\n",
              "      <td>0.941176</td>\n",
              "      <td>0.941176</td>\n",
              "      <td>0.941176</td>\n",
              "      <td>0.968627</td>\n",
              "      <td>0.968627</td>\n",
              "      <td>0.968627</td>\n",
              "      <td>0.972549</td>\n",
              "      <td>0.972549</td>\n",
              "      <td>0.972549</td>\n",
              "      <td>0.976471</td>\n",
              "      <td>0.976471</td>\n",
              "      <td>0.976471</td>\n",
              "      <td>0.964706</td>\n",
              "      <td>0.964706</td>\n",
              "      <td>0.964706</td>\n",
              "      <td>0.968627</td>\n",
              "      <td>0.968627</td>\n",
              "      <td>0.968627</td>\n",
              "      <td>0.949020</td>\n",
              "      <td>0.949020</td>\n",
              "      <td>0.949020</td>\n",
              "      <td>0.952941</td>\n",
              "      <td>0.952941</td>\n",
              "      <td>0.952941</td>\n",
              "      <td>0.968627</td>\n",
              "      <td>0.968627</td>\n",
              "      <td>0.968627</td>\n",
              "      <td>0.964706</td>\n",
              "      <td>0.964706</td>\n",
              "      <td>0.964706</td>\n",
              "      <td>0.949020</td>\n",
              "      <td>...</td>\n",
              "      <td>0.960784</td>\n",
              "      <td>0.941176</td>\n",
              "      <td>0.941176</td>\n",
              "      <td>0.941176</td>\n",
              "      <td>0.949020</td>\n",
              "      <td>0.949020</td>\n",
              "      <td>0.949020</td>\n",
              "      <td>0.976471</td>\n",
              "      <td>0.976471</td>\n",
              "      <td>0.976471</td>\n",
              "      <td>0.964706</td>\n",
              "      <td>0.964706</td>\n",
              "      <td>0.964706</td>\n",
              "      <td>0.933333</td>\n",
              "      <td>0.933333</td>\n",
              "      <td>0.933333</td>\n",
              "      <td>0.952941</td>\n",
              "      <td>0.952941</td>\n",
              "      <td>0.952941</td>\n",
              "      <td>0.945098</td>\n",
              "      <td>0.945098</td>\n",
              "      <td>0.945098</td>\n",
              "      <td>0.949020</td>\n",
              "      <td>0.949020</td>\n",
              "      <td>0.949020</td>\n",
              "      <td>0.949020</td>\n",
              "      <td>0.949020</td>\n",
              "      <td>0.949020</td>\n",
              "      <td>0.937255</td>\n",
              "      <td>0.937255</td>\n",
              "      <td>0.937255</td>\n",
              "      <td>0.952941</td>\n",
              "      <td>0.952941</td>\n",
              "      <td>0.952941</td>\n",
              "      <td>0.921569</td>\n",
              "      <td>0.921569</td>\n",
              "      <td>0.921569</td>\n",
              "      <td>0.949020</td>\n",
              "      <td>0.949020</td>\n",
              "      <td>0.949020</td>\n",
              "    </tr>\n",
              "  </tbody>\n",
              "</table>\n",
              "<p>3 rows × 196608 columns</p>\n",
              "</div>"
            ],
            "text/plain": [
              "     0         1         2       ...    196605    196606    196607\n",
              "0  0.929412  0.927451  0.902614  ...  0.913725  0.913725  0.913725\n",
              "1  0.949020  0.949020  0.949020  ...  0.949020  0.949020  0.949020\n",
              "2  0.941176  0.941176  0.941176  ...  0.949020  0.949020  0.949020\n",
              "\n",
              "[3 rows x 196608 columns]"
            ]
          },
          "metadata": {},
          "execution_count": 7
        }
      ]
    },
    {
      "cell_type": "code",
      "metadata": {
        "id": "OOo9t74Kd4Tb"
      },
      "source": [
        "spiral_pd['status'] = label"
      ],
      "execution_count": 8,
      "outputs": []
    },
    {
      "cell_type": "code",
      "metadata": {
        "colab": {
          "base_uri": "https://localhost:8080/",
          "height": 160
        },
        "id": "hY4EzxZHeE5W",
        "outputId": "0d58e3a0-b847-462e-cf5e-a4442cfa3bb6"
      },
      "source": [
        "spiral_pd.tail(2)"
      ],
      "execution_count": 9,
      "outputs": [
        {
          "output_type": "execute_result",
          "data": {
            "text/html": [
              "<div>\n",
              "<style scoped>\n",
              "    .dataframe tbody tr th:only-of-type {\n",
              "        vertical-align: middle;\n",
              "    }\n",
              "\n",
              "    .dataframe tbody tr th {\n",
              "        vertical-align: top;\n",
              "    }\n",
              "\n",
              "    .dataframe thead th {\n",
              "        text-align: right;\n",
              "    }\n",
              "</style>\n",
              "<table border=\"1\" class=\"dataframe\">\n",
              "  <thead>\n",
              "    <tr style=\"text-align: right;\">\n",
              "      <th></th>\n",
              "      <th>0</th>\n",
              "      <th>1</th>\n",
              "      <th>2</th>\n",
              "      <th>3</th>\n",
              "      <th>4</th>\n",
              "      <th>5</th>\n",
              "      <th>6</th>\n",
              "      <th>7</th>\n",
              "      <th>8</th>\n",
              "      <th>9</th>\n",
              "      <th>10</th>\n",
              "      <th>11</th>\n",
              "      <th>12</th>\n",
              "      <th>13</th>\n",
              "      <th>14</th>\n",
              "      <th>15</th>\n",
              "      <th>16</th>\n",
              "      <th>17</th>\n",
              "      <th>18</th>\n",
              "      <th>19</th>\n",
              "      <th>20</th>\n",
              "      <th>21</th>\n",
              "      <th>22</th>\n",
              "      <th>23</th>\n",
              "      <th>24</th>\n",
              "      <th>25</th>\n",
              "      <th>26</th>\n",
              "      <th>27</th>\n",
              "      <th>28</th>\n",
              "      <th>29</th>\n",
              "      <th>30</th>\n",
              "      <th>31</th>\n",
              "      <th>32</th>\n",
              "      <th>33</th>\n",
              "      <th>34</th>\n",
              "      <th>35</th>\n",
              "      <th>36</th>\n",
              "      <th>37</th>\n",
              "      <th>38</th>\n",
              "      <th>39</th>\n",
              "      <th>...</th>\n",
              "      <th>196569</th>\n",
              "      <th>196570</th>\n",
              "      <th>196571</th>\n",
              "      <th>196572</th>\n",
              "      <th>196573</th>\n",
              "      <th>196574</th>\n",
              "      <th>196575</th>\n",
              "      <th>196576</th>\n",
              "      <th>196577</th>\n",
              "      <th>196578</th>\n",
              "      <th>196579</th>\n",
              "      <th>196580</th>\n",
              "      <th>196581</th>\n",
              "      <th>196582</th>\n",
              "      <th>196583</th>\n",
              "      <th>196584</th>\n",
              "      <th>196585</th>\n",
              "      <th>196586</th>\n",
              "      <th>196587</th>\n",
              "      <th>196588</th>\n",
              "      <th>196589</th>\n",
              "      <th>196590</th>\n",
              "      <th>196591</th>\n",
              "      <th>196592</th>\n",
              "      <th>196593</th>\n",
              "      <th>196594</th>\n",
              "      <th>196595</th>\n",
              "      <th>196596</th>\n",
              "      <th>196597</th>\n",
              "      <th>196598</th>\n",
              "      <th>196599</th>\n",
              "      <th>196600</th>\n",
              "      <th>196601</th>\n",
              "      <th>196602</th>\n",
              "      <th>196603</th>\n",
              "      <th>196604</th>\n",
              "      <th>196605</th>\n",
              "      <th>196606</th>\n",
              "      <th>196607</th>\n",
              "      <th>status</th>\n",
              "    </tr>\n",
              "  </thead>\n",
              "  <tbody>\n",
              "    <tr>\n",
              "      <th>70</th>\n",
              "      <td>0.929412</td>\n",
              "      <td>0.929412</td>\n",
              "      <td>0.929412</td>\n",
              "      <td>0.941176</td>\n",
              "      <td>0.941176</td>\n",
              "      <td>0.941176</td>\n",
              "      <td>0.945098</td>\n",
              "      <td>0.945098</td>\n",
              "      <td>0.945098</td>\n",
              "      <td>0.941176</td>\n",
              "      <td>0.941176</td>\n",
              "      <td>0.941176</td>\n",
              "      <td>0.925490</td>\n",
              "      <td>0.925490</td>\n",
              "      <td>0.925490</td>\n",
              "      <td>0.941176</td>\n",
              "      <td>0.941176</td>\n",
              "      <td>0.941176</td>\n",
              "      <td>0.929412</td>\n",
              "      <td>0.929412</td>\n",
              "      <td>0.929412</td>\n",
              "      <td>0.945098</td>\n",
              "      <td>0.945098</td>\n",
              "      <td>0.945098</td>\n",
              "      <td>0.952941</td>\n",
              "      <td>0.952941</td>\n",
              "      <td>0.952941</td>\n",
              "      <td>0.964706</td>\n",
              "      <td>0.964706</td>\n",
              "      <td>0.964706</td>\n",
              "      <td>0.952941</td>\n",
              "      <td>0.952941</td>\n",
              "      <td>0.952941</td>\n",
              "      <td>0.937255</td>\n",
              "      <td>0.937255</td>\n",
              "      <td>0.937255</td>\n",
              "      <td>0.917647</td>\n",
              "      <td>0.917647</td>\n",
              "      <td>0.917647</td>\n",
              "      <td>0.937255</td>\n",
              "      <td>...</td>\n",
              "      <td>0.925490</td>\n",
              "      <td>0.925490</td>\n",
              "      <td>0.925490</td>\n",
              "      <td>0.933333</td>\n",
              "      <td>0.933333</td>\n",
              "      <td>0.933333</td>\n",
              "      <td>0.917647</td>\n",
              "      <td>0.917647</td>\n",
              "      <td>0.917647</td>\n",
              "      <td>0.929412</td>\n",
              "      <td>0.929412</td>\n",
              "      <td>0.929412</td>\n",
              "      <td>0.956863</td>\n",
              "      <td>0.956863</td>\n",
              "      <td>0.956863</td>\n",
              "      <td>0.949020</td>\n",
              "      <td>0.949020</td>\n",
              "      <td>0.949020</td>\n",
              "      <td>0.921569</td>\n",
              "      <td>0.921569</td>\n",
              "      <td>0.921569</td>\n",
              "      <td>0.917647</td>\n",
              "      <td>0.917647</td>\n",
              "      <td>0.917647</td>\n",
              "      <td>0.909804</td>\n",
              "      <td>0.909804</td>\n",
              "      <td>0.909804</td>\n",
              "      <td>0.917647</td>\n",
              "      <td>0.917647</td>\n",
              "      <td>0.917647</td>\n",
              "      <td>0.913725</td>\n",
              "      <td>0.913725</td>\n",
              "      <td>0.913725</td>\n",
              "      <td>0.901961</td>\n",
              "      <td>0.901961</td>\n",
              "      <td>0.901961</td>\n",
              "      <td>0.913725</td>\n",
              "      <td>0.913725</td>\n",
              "      <td>0.913725</td>\n",
              "      <td>1</td>\n",
              "    </tr>\n",
              "    <tr>\n",
              "      <th>71</th>\n",
              "      <td>0.937255</td>\n",
              "      <td>0.937255</td>\n",
              "      <td>0.937255</td>\n",
              "      <td>0.941176</td>\n",
              "      <td>0.941176</td>\n",
              "      <td>0.941176</td>\n",
              "      <td>0.937255</td>\n",
              "      <td>0.937255</td>\n",
              "      <td>0.937255</td>\n",
              "      <td>0.933333</td>\n",
              "      <td>0.933333</td>\n",
              "      <td>0.933333</td>\n",
              "      <td>0.945098</td>\n",
              "      <td>0.945098</td>\n",
              "      <td>0.945098</td>\n",
              "      <td>0.960784</td>\n",
              "      <td>0.960784</td>\n",
              "      <td>0.960784</td>\n",
              "      <td>0.929412</td>\n",
              "      <td>0.929412</td>\n",
              "      <td>0.929412</td>\n",
              "      <td>0.925490</td>\n",
              "      <td>0.925490</td>\n",
              "      <td>0.925490</td>\n",
              "      <td>0.917647</td>\n",
              "      <td>0.917647</td>\n",
              "      <td>0.917647</td>\n",
              "      <td>0.933333</td>\n",
              "      <td>0.933333</td>\n",
              "      <td>0.933333</td>\n",
              "      <td>0.964706</td>\n",
              "      <td>0.964706</td>\n",
              "      <td>0.964706</td>\n",
              "      <td>0.964706</td>\n",
              "      <td>0.964706</td>\n",
              "      <td>0.964706</td>\n",
              "      <td>0.945098</td>\n",
              "      <td>0.945098</td>\n",
              "      <td>0.945098</td>\n",
              "      <td>0.937255</td>\n",
              "      <td>...</td>\n",
              "      <td>0.964706</td>\n",
              "      <td>0.964706</td>\n",
              "      <td>0.964706</td>\n",
              "      <td>0.945098</td>\n",
              "      <td>0.945098</td>\n",
              "      <td>0.945098</td>\n",
              "      <td>0.933333</td>\n",
              "      <td>0.933333</td>\n",
              "      <td>0.933333</td>\n",
              "      <td>0.929412</td>\n",
              "      <td>0.929412</td>\n",
              "      <td>0.929412</td>\n",
              "      <td>0.937255</td>\n",
              "      <td>0.937255</td>\n",
              "      <td>0.937255</td>\n",
              "      <td>0.917647</td>\n",
              "      <td>0.917647</td>\n",
              "      <td>0.917647</td>\n",
              "      <td>0.909804</td>\n",
              "      <td>0.909804</td>\n",
              "      <td>0.909804</td>\n",
              "      <td>0.964706</td>\n",
              "      <td>0.964706</td>\n",
              "      <td>0.964706</td>\n",
              "      <td>0.945098</td>\n",
              "      <td>0.945098</td>\n",
              "      <td>0.945098</td>\n",
              "      <td>0.921569</td>\n",
              "      <td>0.921569</td>\n",
              "      <td>0.921569</td>\n",
              "      <td>0.933333</td>\n",
              "      <td>0.933333</td>\n",
              "      <td>0.933333</td>\n",
              "      <td>0.949020</td>\n",
              "      <td>0.949020</td>\n",
              "      <td>0.949020</td>\n",
              "      <td>0.937255</td>\n",
              "      <td>0.937255</td>\n",
              "      <td>0.937255</td>\n",
              "      <td>1</td>\n",
              "    </tr>\n",
              "  </tbody>\n",
              "</table>\n",
              "<p>2 rows × 196609 columns</p>\n",
              "</div>"
            ],
            "text/plain": [
              "           0         1         2  ...    196606    196607  status\n",
              "70  0.929412  0.929412  0.929412  ...  0.913725  0.913725       1\n",
              "71  0.937255  0.937255  0.937255  ...  0.937255  0.937255       1\n",
              "\n",
              "[2 rows x 196609 columns]"
            ]
          },
          "metadata": {},
          "execution_count": 9
        }
      ]
    },
    {
      "cell_type": "markdown",
      "metadata": {
        "id": "KxHqfBysfBtk"
      },
      "source": [
        "### Spliting the training data"
      ]
    },
    {
      "cell_type": "code",
      "metadata": {
        "id": "kOq8DolneHJm"
      },
      "source": [
        "y = spiral_pd.status"
      ],
      "execution_count": 10,
      "outputs": []
    },
    {
      "cell_type": "code",
      "metadata": {
        "id": "WkuQ4R1ReRcx"
      },
      "source": [
        "X = spiral_pd.drop(columns='status', axis=1).copy()"
      ],
      "execution_count": 11,
      "outputs": []
    },
    {
      "cell_type": "markdown",
      "metadata": {
        "id": "O8oUcgcCB-hC"
      },
      "source": [
        "### Train test split"
      ]
    },
    {
      "cell_type": "code",
      "metadata": {
        "id": "Mtgg9Y4Ae7-O"
      },
      "source": [
        "from sklearn.model_selection import train_test_split"
      ],
      "execution_count": 12,
      "outputs": []
    },
    {
      "cell_type": "code",
      "metadata": {
        "id": "gj8rp8CafKuZ"
      },
      "source": [
        "X_train, X_test, y_train, y_test = train_test_split(X, y, test_size=0.15)"
      ],
      "execution_count": 13,
      "outputs": []
    },
    {
      "cell_type": "code",
      "metadata": {
        "colab": {
          "base_uri": "https://localhost:8080/"
        },
        "id": "KLIj2TzNfVKz",
        "outputId": "b606dfea-9e72-49c9-dace-032bfc146973"
      },
      "source": [
        "print('Dimensions of train: ', X_train.shape, y_train.shape)\n",
        "print('\\n-----------\\n')\n",
        "print('Dimensions of test: ', X_test.shape, y_test.shape)"
      ],
      "execution_count": 14,
      "outputs": [
        {
          "output_type": "stream",
          "name": "stdout",
          "text": [
            "Dimensions of train:  (61, 196608) (61,)\n",
            "\n",
            "-----------\n",
            "\n",
            "Dimensions of test:  (11, 196608) (11,)\n"
          ]
        }
      ]
    },
    {
      "cell_type": "markdown",
      "metadata": {
        "id": "yh9snnj9f1Pp"
      },
      "source": [
        "### SVM Model"
      ]
    },
    {
      "cell_type": "code",
      "metadata": {
        "id": "ZCU95tVSfgzV"
      },
      "source": [
        "from sklearn.svm import SVC"
      ],
      "execution_count": 15,
      "outputs": []
    },
    {
      "cell_type": "code",
      "metadata": {
        "id": "mxf_MPezgkg3"
      },
      "source": [
        "clf = SVC()"
      ],
      "execution_count": 16,
      "outputs": []
    },
    {
      "cell_type": "code",
      "metadata": {
        "colab": {
          "base_uri": "https://localhost:8080/"
        },
        "id": "wzdSXT5qgmQk",
        "outputId": "f3f48984-418c-4012-b665-43d7e9650a06"
      },
      "source": [
        "clf.fit(X_train, y_train)"
      ],
      "execution_count": 17,
      "outputs": [
        {
          "output_type": "execute_result",
          "data": {
            "text/plain": [
              "SVC(C=1.0, break_ties=False, cache_size=200, class_weight=None, coef0=0.0,\n",
              "    decision_function_shape='ovr', degree=3, gamma='scale', kernel='rbf',\n",
              "    max_iter=-1, probability=False, random_state=None, shrinking=True,\n",
              "    tol=0.001, verbose=False)"
            ]
          },
          "metadata": {},
          "execution_count": 17
        }
      ]
    },
    {
      "cell_type": "code",
      "metadata": {
        "id": "s8qEM8G_gq3F"
      },
      "source": [
        "y_pred = clf.predict(X_test)"
      ],
      "execution_count": 18,
      "outputs": []
    },
    {
      "cell_type": "markdown",
      "metadata": {
        "id": "6j9EED4-g5NY"
      },
      "source": [
        "**Model evaluation**"
      ]
    },
    {
      "cell_type": "code",
      "metadata": {
        "id": "IemrGiXvgwQc"
      },
      "source": [
        "from sklearn import metrics\n",
        "from sklearn.metrics import classification_report\n",
        "from sklearn.metrics import accuracy_score"
      ],
      "execution_count": 19,
      "outputs": []
    },
    {
      "cell_type": "code",
      "metadata": {
        "colab": {
          "base_uri": "https://localhost:8080/"
        },
        "id": "z5uionF8g4kl",
        "outputId": "a4d5d641-97b7-4dd9-a1f1-ef2f307a5ea1"
      },
      "source": [
        "print(accuracy_score(y_pred, y_test))"
      ],
      "execution_count": 20,
      "outputs": [
        {
          "output_type": "stream",
          "name": "stdout",
          "text": [
            "0.5454545454545454\n"
          ]
        }
      ]
    },
    {
      "cell_type": "code",
      "metadata": {
        "colab": {
          "base_uri": "https://localhost:8080/"
        },
        "id": "_JvC4U85g_3d",
        "outputId": "c8c8d4d8-63d0-4f85-f321-032765abebdd"
      },
      "source": [
        "metrics.confusion_matrix(y_test, y_pred)"
      ],
      "execution_count": 21,
      "outputs": [
        {
          "output_type": "execute_result",
          "data": {
            "text/plain": [
              "array([[2, 5],\n",
              "       [0, 4]])"
            ]
          },
          "metadata": {},
          "execution_count": 21
        }
      ]
    },
    {
      "cell_type": "code",
      "metadata": {
        "colab": {
          "base_uri": "https://localhost:8080/"
        },
        "id": "ZewLUWkphY5H",
        "outputId": "e98930f4-8c7c-4f22-ded2-d1d83decd05d"
      },
      "source": [
        "print(classification_report(y_test, y_pred))"
      ],
      "execution_count": 22,
      "outputs": [
        {
          "output_type": "stream",
          "name": "stdout",
          "text": [
            "              precision    recall  f1-score   support\n",
            "\n",
            "           0       1.00      0.29      0.44         7\n",
            "           1       0.44      1.00      0.62         4\n",
            "\n",
            "    accuracy                           0.55        11\n",
            "   macro avg       0.72      0.64      0.53        11\n",
            "weighted avg       0.80      0.55      0.51        11\n",
            "\n"
          ]
        }
      ]
    },
    {
      "cell_type": "code",
      "metadata": {
        "colab": {
          "base_uri": "https://localhost:8080/",
          "height": 332
        },
        "id": "aPQfgw2Vhe4B",
        "outputId": "e6532df9-92e1-424c-f8f5-9552d39da863"
      },
      "source": [
        "metrics.plot_confusion_matrix(clf, X_test, y_test,\n",
        "                              display_labels=['Not PD', 'PD'],\n",
        "                              xticks_rotation='vertical',\n",
        "                              cmap='inferno')\n",
        "\n",
        "plt.grid(b=None)"
      ],
      "execution_count": 70,
      "outputs": [
        {
          "output_type": "display_data",
          "data": {
            "image/png": "[encoded data removed]",
            "text/plain": [
              "<Figure size 432x288 with 2 Axes>"
            ]
          },
          "metadata": {}
        }
      ]
    },
    {
      "cell_type": "markdown",
      "metadata": {
        "id": "CxVZmaIiimkN"
      },
      "source": [
        "### Hyperparameter tuning "
      ]
    },
    {
      "cell_type": "code",
      "metadata": {
        "id": "L6K0jDKDil-2"
      },
      "source": [
        "from sklearn.model_selection import GridSearchCV"
      ],
      "execution_count": 24,
      "outputs": []
    },
    {
      "cell_type": "code",
      "metadata": {
        "id": "B5jXRA49hswJ"
      },
      "source": [
        "grid = GridSearchCV(clf, {\n",
        "    'gamma': ['auto', 'scale'],\n",
        "    'kernel': ['linear', 'poly', 'rbf', 'sigmoid'],\n",
        "    'C':[0.1, 1, 4, 8, 10, 20, 100]\n",
        "}, cv=5, scoring='accuracy')"
      ],
      "execution_count": 25,
      "outputs": []
    },
    {
      "cell_type": "code",
      "metadata": {
        "colab": {
          "base_uri": "https://localhost:8080/"
        },
        "id": "u3r0sIK7ix-T",
        "outputId": "31f68c0f-1162-4228-efb2-c8dafe04a3a9"
      },
      "source": [
        "grid.fit(X_train, y_train)"
      ],
      "execution_count": 26,
      "outputs": [
        {
          "output_type": "execute_result",
          "data": {
            "text/plain": [
              "GridSearchCV(cv=5, error_score=nan,\n",
              "             estimator=SVC(C=1.0, break_ties=False, cache_size=200,\n",
              "                           class_weight=None, coef0=0.0,\n",
              "                           decision_function_shape='ovr', degree=3,\n",
              "                           gamma='scale', kernel='rbf', max_iter=-1,\n",
              "                           probability=False, random_state=None, shrinking=True,\n",
              "                           tol=0.001, verbose=False),\n",
              "             iid='deprecated', n_jobs=None,\n",
              "             param_grid={'C': [0.1, 1, 4, 8, 10, 20, 100],\n",
              "                         'gamma': ['auto', 'scale'],\n",
              "                         'kernel': ['linear', 'poly', 'rbf', 'sigmoid']},\n",
              "             pre_dispatch='2*n_jobs', refit=True, return_train_score=False,\n",
              "             scoring='accuracy', verbose=0)"
            ]
          },
          "metadata": {},
          "execution_count": 26
        }
      ]
    },
    {
      "cell_type": "code",
      "metadata": {
        "colab": {
          "base_uri": "https://localhost:8080/"
        },
        "id": "O8_SnTAzi7mM",
        "outputId": "4443a36b-eae2-4257-9fed-4e0936522cae"
      },
      "source": [
        "grid.best_params_"
      ],
      "execution_count": 27,
      "outputs": [
        {
          "output_type": "execute_result",
          "data": {
            "text/plain": [
              "{'C': 0.1, 'gamma': 'scale', 'kernel': 'poly'}"
            ]
          },
          "metadata": {},
          "execution_count": 27
        }
      ]
    },
    {
      "cell_type": "code",
      "metadata": {
        "colab": {
          "base_uri": "https://localhost:8080/"
        },
        "id": "JE0tfLWMkCiG",
        "outputId": "b81ec7bf-dbdb-4bc6-8a7c-41736ec9435d"
      },
      "source": [
        "grid.best_score_"
      ],
      "execution_count": 28,
      "outputs": [
        {
          "output_type": "execute_result",
          "data": {
            "text/plain": [
              "0.8051282051282052"
            ]
          },
          "metadata": {},
          "execution_count": 28
        }
      ]
    },
    {
      "cell_type": "code",
      "metadata": {
        "id": "bDK39GAnaDft"
      },
      "source": [
        "df_cv = pd.DataFrame(grid.cv_results_)"
      ],
      "execution_count": 29,
      "outputs": []
    },
    {
      "cell_type": "code",
      "metadata": {
        "colab": {
          "base_uri": "https://localhost:8080/",
          "height": 564
        },
        "id": "fOmu9RdMa2cz",
        "outputId": "beddcf2f-21d2-43cb-ad97-0e5b39ed869f"
      },
      "source": [
        "df_cv.sort_values(by='mean_test_score', ascending=False).head()"
      ],
      "execution_count": 30,
      "outputs": [
        {
          "output_type": "execute_result",
          "data": {
            "text/html": [
              "<div>\n",
              "<style scoped>\n",
              "    .dataframe tbody tr th:only-of-type {\n",
              "        vertical-align: middle;\n",
              "    }\n",
              "\n",
              "    .dataframe tbody tr th {\n",
              "        vertical-align: top;\n",
              "    }\n",
              "\n",
              "    .dataframe thead th {\n",
              "        text-align: right;\n",
              "    }\n",
              "</style>\n",
              "<table border=\"1\" class=\"dataframe\">\n",
              "  <thead>\n",
              "    <tr style=\"text-align: right;\">\n",
              "      <th></th>\n",
              "      <th>mean_fit_time</th>\n",
              "      <th>std_fit_time</th>\n",
              "      <th>mean_score_time</th>\n",
              "      <th>std_score_time</th>\n",
              "      <th>param_C</th>\n",
              "      <th>param_gamma</th>\n",
              "      <th>param_kernel</th>\n",
              "      <th>params</th>\n",
              "      <th>split0_test_score</th>\n",
              "      <th>split1_test_score</th>\n",
              "      <th>split2_test_score</th>\n",
              "      <th>split3_test_score</th>\n",
              "      <th>split4_test_score</th>\n",
              "      <th>mean_test_score</th>\n",
              "      <th>std_test_score</th>\n",
              "      <th>rank_test_score</th>\n",
              "    </tr>\n",
              "  </thead>\n",
              "  <tbody>\n",
              "    <tr>\n",
              "      <th>21</th>\n",
              "      <td>1.125398</td>\n",
              "      <td>0.014268</td>\n",
              "      <td>0.363059</td>\n",
              "      <td>0.008016</td>\n",
              "      <td>4</td>\n",
              "      <td>scale</td>\n",
              "      <td>poly</td>\n",
              "      <td>{'C': 4, 'gamma': 'scale', 'kernel': 'poly'}</td>\n",
              "      <td>0.692308</td>\n",
              "      <td>0.75</td>\n",
              "      <td>0.916667</td>\n",
              "      <td>0.833333</td>\n",
              "      <td>0.833333</td>\n",
              "      <td>0.805128</td>\n",
              "      <td>0.0772</td>\n",
              "      <td>1</td>\n",
              "    </tr>\n",
              "    <tr>\n",
              "      <th>53</th>\n",
              "      <td>1.106880</td>\n",
              "      <td>0.009312</td>\n",
              "      <td>0.361473</td>\n",
              "      <td>0.003636</td>\n",
              "      <td>100</td>\n",
              "      <td>scale</td>\n",
              "      <td>poly</td>\n",
              "      <td>{'C': 100, 'gamma': 'scale', 'kernel': 'poly'}</td>\n",
              "      <td>0.692308</td>\n",
              "      <td>0.75</td>\n",
              "      <td>0.916667</td>\n",
              "      <td>0.833333</td>\n",
              "      <td>0.833333</td>\n",
              "      <td>0.805128</td>\n",
              "      <td>0.0772</td>\n",
              "      <td>1</td>\n",
              "    </tr>\n",
              "    <tr>\n",
              "      <th>5</th>\n",
              "      <td>1.110602</td>\n",
              "      <td>0.008403</td>\n",
              "      <td>0.360464</td>\n",
              "      <td>0.005430</td>\n",
              "      <td>0.1</td>\n",
              "      <td>scale</td>\n",
              "      <td>poly</td>\n",
              "      <td>{'C': 0.1, 'gamma': 'scale', 'kernel': 'poly'}</td>\n",
              "      <td>0.692308</td>\n",
              "      <td>0.75</td>\n",
              "      <td>0.916667</td>\n",
              "      <td>0.833333</td>\n",
              "      <td>0.833333</td>\n",
              "      <td>0.805128</td>\n",
              "      <td>0.0772</td>\n",
              "      <td>1</td>\n",
              "    </tr>\n",
              "    <tr>\n",
              "      <th>29</th>\n",
              "      <td>1.099618</td>\n",
              "      <td>0.010960</td>\n",
              "      <td>0.362642</td>\n",
              "      <td>0.005431</td>\n",
              "      <td>8</td>\n",
              "      <td>scale</td>\n",
              "      <td>poly</td>\n",
              "      <td>{'C': 8, 'gamma': 'scale', 'kernel': 'poly'}</td>\n",
              "      <td>0.692308</td>\n",
              "      <td>0.75</td>\n",
              "      <td>0.916667</td>\n",
              "      <td>0.833333</td>\n",
              "      <td>0.833333</td>\n",
              "      <td>0.805128</td>\n",
              "      <td>0.0772</td>\n",
              "      <td>1</td>\n",
              "    </tr>\n",
              "    <tr>\n",
              "      <th>45</th>\n",
              "      <td>1.105288</td>\n",
              "      <td>0.005628</td>\n",
              "      <td>0.365612</td>\n",
              "      <td>0.007116</td>\n",
              "      <td>20</td>\n",
              "      <td>scale</td>\n",
              "      <td>poly</td>\n",
              "      <td>{'C': 20, 'gamma': 'scale', 'kernel': 'poly'}</td>\n",
              "      <td>0.692308</td>\n",
              "      <td>0.75</td>\n",
              "      <td>0.916667</td>\n",
              "      <td>0.833333</td>\n",
              "      <td>0.833333</td>\n",
              "      <td>0.805128</td>\n",
              "      <td>0.0772</td>\n",
              "      <td>1</td>\n",
              "    </tr>\n",
              "  </tbody>\n",
              "</table>\n",
              "</div>"
            ],
            "text/plain": [
              "    mean_fit_time  std_fit_time  ...  std_test_score  rank_test_score\n",
              "21       1.125398      0.014268  ...          0.0772                1\n",
              "53       1.106880      0.009312  ...          0.0772                1\n",
              "5        1.110602      0.008403  ...          0.0772                1\n",
              "29       1.099618      0.010960  ...          0.0772                1\n",
              "45       1.105288      0.005628  ...          0.0772                1\n",
              "\n",
              "[5 rows x 16 columns]"
            ]
          },
          "metadata": {},
          "execution_count": 30
        }
      ]
    },
    {
      "cell_type": "markdown",
      "metadata": {
        "id": "RKUrJUffm0jo"
      },
      "source": [
        "**Evaluating the model with the optimal hyperparameters**"
      ]
    },
    {
      "cell_type": "code",
      "metadata": {
        "id": "hSYsrmenkFdt"
      },
      "source": [
        "clf2 = SVC(C=0.1, gamma='scale', kernel='poly')"
      ],
      "execution_count": 55,
      "outputs": []
    },
    {
      "cell_type": "code",
      "metadata": {
        "colab": {
          "base_uri": "https://localhost:8080/"
        },
        "id": "DA5oV7T5mrNs",
        "outputId": "acc8876f-71c4-41a1-e917-20b997992210"
      },
      "source": [
        "clf2.fit(X_train, y_train)"
      ],
      "execution_count": 56,
      "outputs": [
        {
          "output_type": "execute_result",
          "data": {
            "text/plain": [
              "SVC(C=0.1, break_ties=False, cache_size=200, class_weight=None, coef0=0.0,\n",
              "    decision_function_shape='ovr', degree=3, gamma='scale', kernel='poly',\n",
              "    max_iter=-1, probability=False, random_state=None, shrinking=True,\n",
              "    tol=0.001, verbose=False)"
            ]
          },
          "metadata": {},
          "execution_count": 56
        }
      ]
    },
    {
      "cell_type": "code",
      "metadata": {
        "id": "BqQyGmoKmwmF"
      },
      "source": [
        "y_pred_n = clf2.predict(X_test)"
      ],
      "execution_count": 57,
      "outputs": []
    },
    {
      "cell_type": "code",
      "metadata": {
        "colab": {
          "base_uri": "https://localhost:8080/"
        },
        "id": "FNq5yEAmnBum",
        "outputId": "73cf9f3e-3ded-40dd-aa8c-6f22abfe1a7e"
      },
      "source": [
        "print(accuracy_score(y_test, y_pred_n))"
      ],
      "execution_count": 58,
      "outputs": [
        {
          "output_type": "stream",
          "name": "stdout",
          "text": [
            "0.7272727272727273\n"
          ]
        }
      ]
    },
    {
      "cell_type": "code",
      "metadata": {
        "colab": {
          "base_uri": "https://localhost:8080/"
        },
        "id": "nMJqm1jQKFRB",
        "outputId": "84b5c8fd-6750-48dc-bd09-39a30143a738"
      },
      "source": [
        "print(classification_report(y_test, y_pred_n))"
      ],
      "execution_count": 59,
      "outputs": [
        {
          "output_type": "stream",
          "name": "stdout",
          "text": [
            "              precision    recall  f1-score   support\n",
            "\n",
            "           0       1.00      0.57      0.73         7\n",
            "           1       0.57      1.00      0.73         4\n",
            "\n",
            "    accuracy                           0.73        11\n",
            "   macro avg       0.79      0.79      0.73        11\n",
            "weighted avg       0.84      0.73      0.73        11\n",
            "\n"
          ]
        }
      ]
    },
    {
      "cell_type": "code",
      "metadata": {
        "id": "YIDNEC_B8Eun"
      },
      "source": [
        "y_pred_n_train = clf2.predict(X_train)"
      ],
      "execution_count": 60,
      "outputs": []
    },
    {
      "cell_type": "code",
      "metadata": {
        "colab": {
          "base_uri": "https://localhost:8080/"
        },
        "id": "msa6S1qpf-p2",
        "outputId": "0401b717-e877-4449-d46c-9b55067221a5"
      },
      "source": [
        "print(accuracy_score(y_train, y_pred_n_train))"
      ],
      "execution_count": 61,
      "outputs": [
        {
          "output_type": "stream",
          "name": "stdout",
          "text": [
            "1.0\n"
          ]
        }
      ]
    },
    {
      "cell_type": "code",
      "metadata": {
        "id": "Bnt467XKgDvc"
      },
      "source": [
        "from sklearn.metrics import roc_curve, roc_auc_score"
      ],
      "execution_count": 62,
      "outputs": []
    },
    {
      "cell_type": "code",
      "metadata": {
        "colab": {
          "base_uri": "https://localhost:8080/",
          "height": 332
        },
        "id": "ijSJLgq0J7xJ",
        "outputId": "fde85b1c-bd38-4616-d1cc-9da1daa4eab8"
      },
      "source": [
        "metrics.plot_confusion_matrix(clf2, X_test, y_test,\n",
        "                              display_labels=['Not PD', 'PD'],\n",
        "                              xticks_rotation='vertical',\n",
        "                              cmap='inferno')\n",
        "plt.grid(b=None)"
      ],
      "execution_count": 71,
      "outputs": [
        {
          "output_type": "display_data",
          "data": {
            "image/png": "[encoded data removed]",
            "text/plain": [
              "<Figure size 432x288 with 2 Axes>"
            ]
          },
          "metadata": {}
        }
      ]
    },
    {
      "cell_type": "markdown",
      "metadata": {
        "id": "lsaimu85KJWn"
      },
      "source": [
        "### ROC"
      ]
    },
    {
      "cell_type": "code",
      "metadata": {
        "id": "UzOMgGvbJ7oj"
      },
      "source": [
        "from sklearn.metrics import plot_roc_curve"
      ],
      "execution_count": 64,
      "outputs": []
    },
    {
      "cell_type": "code",
      "metadata": {
        "colab": {
          "base_uri": "https://localhost:8080/",
          "height": 316
        },
        "id": "s-rQ9QQ-KTw_",
        "outputId": "bc8e9c28-d638-4bd0-ca80-eff2fa6e5084"
      },
      "source": [
        "plot_roc_curve(clf2, X_test, y_test)"
      ],
      "execution_count": 69,
      "outputs": [
        {
          "output_type": "execute_result",
          "data": {
            "text/plain": [
              "<sklearn.metrics._plot.roc_curve.RocCurveDisplay at 0x7f57813d1a50>"
            ]
          },
          "metadata": {},
          "execution_count": 69
        },
        {
          "output_type": "display_data",
          "data": {
            "image/png": "[encoded data removed]",
            "text/plain": [
              "<Figure size 432x288 with 1 Axes>"
            ]
          },
          "metadata": {}
        }
      ]
    },
    {
      "cell_type": "code",
      "metadata": {
        "id": "lRwlQ9cEJ7hA"
      },
      "source": [
        ""
      ],
      "execution_count": null,
      "outputs": []
    }
  ]
}